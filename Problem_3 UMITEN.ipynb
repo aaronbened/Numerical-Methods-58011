{
  "nbformat": 4,
  "nbformat_minor": 0,
  "metadata": {
    "colab": {
      "name": "Problem 3",
      "provenance": [],
      "authorship_tag": "ABX9TyPEtWV0uUD+OL4HWmDH1Oe/",
      "include_colab_link": true
    },
    "kernelspec": {
      "name": "python3",
      "display_name": "Python 3"
    },
    "language_info": {
      "name": "python"
    }
  },
  "cells": [
    {
      "cell_type": "markdown",
      "metadata": {
        "id": "view-in-github",
        "colab_type": "text"
      },
      "source": [
        "<a href=\"https://colab.research.google.com/github/aaronbened/Numerical-Methods-58011/blob/main/Problem_3%20UMITEN.ipynb\" target=\"_parent\"><img src=\"https://colab.research.google.com/assets/colab-badge.svg\" alt=\"Open In Colab\"/></a>"
      ]
    },
    {
      "cell_type": "markdown",
      "source": [
        "Problem 3. Create a Python program that integrates the function f(x) = ex  from x1=-1 to x2 = 1 as the interval. Save your program to your repository and send your GitHub link here. (30 points)"
      ],
      "metadata": {
        "id": "FRNlgadzxZpT"
      }
    },
    {
      "cell_type": "code",
      "execution_count": 3,
      "metadata": {
        "colab": {
          "base_uri": "https://localhost:8080/"
        },
        "id": "BlC2JBgywyBm",
        "outputId": "8b343eea-8a6e-49e3-bf63-d6f966a5ad22"
      },
      "outputs": [
        {
          "output_type": "stream",
          "name": "stdout",
          "text": [
            "Integral = 2.1731\n"
          ]
        }
      ],
      "source": [
        "import math\n",
        "def f(x):\n",
        "  return(math.exp(x)) #define the trigo function\n",
        "a = -1\n",
        "b = 1\n",
        "n = 10\n",
        "h = (b-a)/n   #width of the trapezoid\n",
        "S = h* (f(a)+f(b))    #beginning value of summation\n",
        "for i in range(1,n):\n",
        "    S+=f(a+i*h)\n",
        "Integral = S*h\n",
        "print('Integral = %0.4f' %Integral)"
      ]
    }
  ]
}