{
  "nbformat": 4,
  "nbformat_minor": 0,
  "metadata": {
    "colab": {
      "name": "Recitation.ipynb",
      "provenance": [],
      "authorship_tag": "ABX9TyM8Ww6+NOb5WlrTG2tRVbzT",
      "include_colab_link": true
    },
    "kernelspec": {
      "name": "python3",
      "display_name": "Python 3"
    },
    "language_info": {
      "name": "python"
    }
  },
  "cells": [
    {
      "cell_type": "markdown",
      "metadata": {
        "id": "view-in-github",
        "colab_type": "text"
      },
      "source": [
        "<a href=\"https://colab.research.google.com/github/aaronbened/Numerical-Methods-58011/blob/main/Recitation_UMITEN.ipynb\" target=\"_parent\"><img src=\"https://colab.research.google.com/assets/colab-badge.svg\" alt=\"Open In Colab\"/></a>"
      ]
    },
    {
      "cell_type": "markdown",
      "source": [
        "#Trapezoidal Rule"
      ],
      "metadata": {
        "id": "FAqOqMyWXBLs"
      }
    },
    {
      "cell_type": "code",
      "execution_count": 1,
      "metadata": {
        "colab": {
          "base_uri": "https://localhost:8080/"
        },
        "id": "HxM3As3fWypm",
        "outputId": "329a5a5f-79ae-49e0-b361-a47711581b5f"
      },
      "outputs": [
        {
          "output_type": "stream",
          "name": "stdout",
          "text": [
            "Integral = 1.6005\n"
          ]
        }
      ],
      "source": [
        "def f(x):\n",
        "  return( 0.2 + 25*x - 200*x**2 + 675*x**3 - 900*x**4 + 400*x**5 ) #define the trigo function\n",
        "a = 0\n",
        "b = 0.8\n",
        "n = 10\n",
        "h = (b-a)/n   #width of the trapezoid\n",
        "S = h* (f(a)+f(b))    #beginning value of summation\n",
        "for i in range(1,n):\n",
        "    S+=f(a+i*h)\n",
        "Integral = S*h\n",
        "print('Integral = %0.4f' %Integral)"
      ]
    }
  ]
}