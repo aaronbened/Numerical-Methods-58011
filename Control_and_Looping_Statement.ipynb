{
  "nbformat": 4,
  "nbformat_minor": 0,
  "metadata": {
    "colab": {
      "name": "Control and Looping Statement.ipynb",
      "provenance": [],
      "authorship_tag": "ABX9TyMSyD13HEDbXQL7s1dj3Cxm",
      "include_colab_link": true
    },
    "kernelspec": {
      "name": "python3",
      "display_name": "Python 3"
    },
    "language_info": {
      "name": "python"
    }
  },
  "cells": [
    {
      "cell_type": "markdown",
      "metadata": {
        "id": "view-in-github",
        "colab_type": "text"
      },
      "source": [
        "<a href=\"https://colab.research.google.com/github/aaronbened/Numerical-Methods-58011/blob/main/Control_and_Looping_Statement.ipynb\" target=\"_parent\"><img src=\"https://colab.research.google.com/assets/colab-badge.svg\" alt=\"Open In Colab\"/></a>"
      ]
    },
    {
      "cell_type": "markdown",
      "source": [
        "#If Statement"
      ],
      "metadata": {
        "id": "uyOP2_slbsnK"
      }
    },
    {
      "cell_type": "code",
      "execution_count": 25,
      "metadata": {
        "colab": {
          "base_uri": "https://localhost:8080/"
        },
        "id": "t6iF3RlRbTQm",
        "outputId": "a0830175-93ad-4c54-eb74-3f092873393a"
      },
      "outputs": [
        {
          "output_type": "stream",
          "name": "stdout",
          "text": [
            "b is greater than a\n"
          ]
        }
      ],
      "source": [
        "a= 12 \n",
        "b= 100\n",
        "\n",
        "if b>a:\n",
        "  print(\"b is greater than a\")"
      ]
    },
    {
      "cell_type": "markdown",
      "source": [
        "#Elif Statement "
      ],
      "metadata": {
        "id": "BUlRyb3edBlA"
      }
    },
    {
      "cell_type": "code",
      "source": [
        "if b<a:\n",
        "  print(\"b is less than a\")\n",
        "elif b>a:\n",
        "  print(\"b is greater than a\")"
      ],
      "metadata": {
        "id": "i4saRDpOdEyn"
      },
      "execution_count": null,
      "outputs": []
    },
    {
      "cell_type": "markdown",
      "source": [
        "#Else Statement "
      ],
      "metadata": {
        "id": "52V1aU3sdEc_"
      }
    },
    {
      "cell_type": "code",
      "source": [
        "a = 12        #input(\"put a number for variable A: \")\n",
        "b = 100       #input(\"put a number for variable B: \")\n",
        "if b>a:\n",
        "  print(\"A is less than B\")\n",
        "elif a>b:\n",
        "  print(\"A is greater than B\")\n",
        "else:\n",
        "  print(\"A and B are equal\")"
      ],
      "metadata": {
        "colab": {
          "base_uri": "https://localhost:8080/"
        },
        "id": "8UOQfahacePO",
        "outputId": "fef5d5ab-5fa5-4fdc-a393-ca41d63a6492"
      },
      "execution_count": 6,
      "outputs": [
        {
          "output_type": "stream",
          "name": "stdout",
          "text": [
            "put a number for variable A: 5\n",
            "put a number for variable B: 4\n",
            "a is greater than B\n"
          ]
        }
      ]
    },
    {
      "cell_type": "markdown",
      "source": [
        "#Short Hand if Statement"
      ],
      "metadata": {
        "id": "PPWIvyxwd4Ae"
      }
    },
    {
      "cell_type": "code",
      "source": [
        "if b>a:print(\"B is greater than A\")"
      ],
      "metadata": {
        "id": "4u2H-Up8d6_X"
      },
      "execution_count": null,
      "outputs": []
    },
    {
      "cell_type": "markdown",
      "source": [
        "#Short Hand if... Else Statement"
      ],
      "metadata": {
        "id": "zZ0jlV20eZdA"
      }
    },
    {
      "cell_type": "code",
      "source": [
        "c = 35 \n",
        "d = 40\n",
        "print(\"C is greater than D\")if c>d else print(\"D is greater than C\")\n"
      ],
      "metadata": {
        "colab": {
          "base_uri": "https://localhost:8080/"
        },
        "id": "aPcgR4hneh4s",
        "outputId": "52183c5d-3ff4-4468-c03d-c463a4917658"
      },
      "execution_count": 9,
      "outputs": [
        {
          "output_type": "stream",
          "name": "stdout",
          "text": [
            "D is greater than C\n"
          ]
        }
      ]
    },
    {
      "cell_type": "markdown",
      "source": [
        "#And Logic - if both statement or operand are True"
      ],
      "metadata": {
        "id": "VG0Fc9GdfN4n"
      }
    },
    {
      "cell_type": "code",
      "source": [
        "c = 35\n",
        "d = 40 \n",
        "e = 30 \n",
        "if c<d and e<c:print(\"Evaluation is True\")"
      ],
      "metadata": {
        "colab": {
          "base_uri": "https://localhost:8080/"
        },
        "id": "V1kIId1RfRb5",
        "outputId": "93f00d17-f4df-46a0-af8e-93252b2dfeac"
      },
      "execution_count": 17,
      "outputs": [
        {
          "output_type": "stream",
          "name": "stdout",
          "text": [
            "Evaluation is True\n"
          ]
        }
      ]
    },
    {
      "cell_type": "markdown",
      "source": [
        "#Or logic - if on of the operands is True"
      ],
      "metadata": {
        "id": "S3buPrLVgCmh"
      }
    },
    {
      "cell_type": "code",
      "source": [
        "if d>c or e>c: print(\" if one of the operand is True\")"
      ],
      "metadata": {
        "id": "yNip1mVQgCT1"
      },
      "execution_count": null,
      "outputs": []
    },
    {
      "cell_type": "markdown",
      "source": [
        "#Nested If \n"
      ],
      "metadata": {
        "id": "V3HqMlAIgliH"
      }
    },
    {
      "cell_type": "code",
      "source": [
        "x = 41 \n",
        "if x>10:\n",
        "  print(\"x is Above 10,\")\n",
        "  if x>20:\n",
        "    print(\"x is above 20\")\n",
        "    if x>30:\n",
        "      print(\"x is above 30\")\n",
        "      if x>40:\n",
        "        print(\"x is above 40\")\n",
        "      else:\n",
        "        print(\"x is below 40\")\n",
        "    else:\n",
        "      print(\"x is below 30\")\n",
        "  else:\n",
        "    print(\"x is Below 20\")"
      ],
      "metadata": {
        "colab": {
          "base_uri": "https://localhost:8080/"
        },
        "id": "iLvVrFFlgnkX",
        "outputId": "1c18dd23-93cb-4d9e-9cc2-4d7f64b737e0"
      },
      "execution_count": 23,
      "outputs": [
        {
          "output_type": "stream",
          "name": "stdout",
          "text": [
            "x is Above 10,\n",
            "x is above 20\n",
            "x is above 30\n",
            "x is above 40\n"
          ]
        }
      ]
    },
    {
      "cell_type": "markdown",
      "source": [
        "#Application 1\n",
        "  Write a program that determine if the input age is quallified to vote or not. The qualifying age is 18 years old and above "
      ],
      "metadata": {
        "id": "GtWfQh2RiffD"
      }
    },
    {
      "cell_type": "code",
      "source": [
        "age = int(input(\"input your age : \"))\n",
        "print(\"you're allowed to vote\")if age >= 18 else print(\"your age is not quallified to vote\")"
      ],
      "metadata": {
        "colab": {
          "base_uri": "https://localhost:8080/"
        },
        "id": "1Hvld9kwijPD",
        "outputId": "fdce5f52-abc8-4b4a-babb-b892ee02a77f"
      },
      "execution_count": 29,
      "outputs": [
        {
          "output_type": "stream",
          "name": "stdout",
          "text": [
            "input your age : 14\n",
            "your age is not quallified to vote\n"
          ]
        }
      ]
    },
    {
      "cell_type": "markdown",
      "source": [
        "#Application 2 \n",
        "Write a program that determines if the input is negative, positive or zero"
      ],
      "metadata": {
        "id": "NcZYhUM1jqOh"
      }
    },
    {
      "cell_type": "code",
      "source": [
        "num = int(input(\"input your age : \"))\n",
        "if num > 0:\n",
        "  print(\"the inputed number is POSITIVE\")\n",
        "elif num < 0:\n",
        "  print(\"the inputed number is NEGATIVE\")\n",
        "else:\n",
        "  print(\"the inputed number is ZERO\")"
      ],
      "metadata": {
        "id": "tMF5x-htjXGy"
      },
      "execution_count": null,
      "outputs": []
    },
    {
      "cell_type": "markdown",
      "source": [
        "#For loop Statement "
      ],
      "metadata": {
        "id": "_oWMLJ1WkdJI"
      }
    },
    {
      "cell_type": "code",
      "source": [
        "week = [\"Sunday\", \"Monday\", \"Tuesday\", \"Wednesday\",\"Thursday\", \"Friday\", \"Saturday\"]\n",
        "for x in week:\n",
        "  print(x)"
      ],
      "metadata": {
        "colab": {
          "base_uri": "https://localhost:8080/"
        },
        "id": "8mekXgGfkeyg",
        "outputId": "6e76a2fd-265c-4a17-dff6-e18568903ec6"
      },
      "execution_count": 35,
      "outputs": [
        {
          "output_type": "stream",
          "name": "stdout",
          "text": [
            "Sunday\n",
            "Monday\n",
            "Tuesday\n",
            "Wednesday\n",
            "Thursday\n",
            "Friday\n",
            "Saturday\n"
          ]
        }
      ]
    },
    {
      "cell_type": "markdown",
      "source": [
        "#The Break statement "
      ],
      "metadata": {
        "id": "wo3EyZR3lRI2"
      }
    },
    {
      "cell_type": "code",
      "source": [
        "for x in week:\n",
        "  print(x)\n",
        "  if x == \"Thursday\":\n",
        "    break"
      ],
      "metadata": {
        "colab": {
          "base_uri": "https://localhost:8080/"
        },
        "id": "KJhru6vIlVLv",
        "outputId": "ce0ebaa9-5e7a-457a-ec7c-2bd6d3a536ce"
      },
      "execution_count": 36,
      "outputs": [
        {
          "output_type": "stream",
          "name": "stdout",
          "text": [
            "Sunday\n",
            "Monday\n",
            "Tuesday\n",
            "Wednesday\n",
            "Thursday\n"
          ]
        }
      ]
    },
    {
      "cell_type": "markdown",
      "source": [
        "#While Loop"
      ],
      "metadata": {
        "id": "nUI0-0b6l0Xt"
      }
    },
    {
      "cell_type": "code",
      "source": [
        "y = 3\n",
        "while y<6:\n",
        "  print(y)\n",
        "  if y==3:\n",
        "    break\n",
        "  y+=1 "
      ],
      "metadata": {
        "colab": {
          "base_uri": "https://localhost:8080/"
        },
        "id": "eih5omvimAPe",
        "outputId": "830817eb-7ed7-4008-a206-e0f054b7a856"
      },
      "execution_count": 49,
      "outputs": [
        {
          "output_type": "stream",
          "name": "stdout",
          "text": [
            "3\n"
          ]
        }
      ]
    }
  ]
}