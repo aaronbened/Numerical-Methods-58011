{
  "nbformat": 4,
  "nbformat_minor": 0,
  "metadata": {
    "colab": {
      "name": "Operations and Expression.ipynb",
      "provenance": [],
      "authorship_tag": "ABX9TyMt4cjGAcpWYy+je+GtFMUH",
      "include_colab_link": true
    },
    "kernelspec": {
      "name": "python3",
      "display_name": "Python 3"
    },
    "language_info": {
      "name": "python"
    }
  },
  "cells": [
    {
      "cell_type": "markdown",
      "metadata": {
        "id": "view-in-github",
        "colab_type": "text"
      },
      "source": [
        "<a href=\"https://colab.research.google.com/github/aaronbened/Numerical-Methods-58011/blob/main/Operations_and_Expression.ipynb\" target=\"_parent\"><img src=\"https://colab.research.google.com/assets/colab-badge.svg\" alt=\"Open In Colab\"/></a>"
      ]
    },
    {
      "cell_type": "markdown",
      "source": [
        "#Boolean Operators"
      ],
      "metadata": {
        "id": "gF922MgJJ45Z"
      }
    },
    {
      "cell_type": "markdown",
      "source": [
        "Boolean is only answerable by True or false"
      ],
      "metadata": {
        "id": "hSOSVzu4NXVJ"
      }
    },
    {
      "cell_type": "code",
      "execution_count": 5,
      "metadata": {
        "colab": {
          "base_uri": "https://localhost:8080/"
        },
        "id": "6olbo03FJlHj",
        "outputId": "2f9a5e1a-a6f0-43dc-df28-18e301773d0b"
      },
      "outputs": [
        {
          "output_type": "stream",
          "name": "stdout",
          "text": [
            "True\n",
            "False\n",
            "False\n"
          ]
        }
      ],
      "source": [
        "print(10>9)\n",
        "print(10<9)\n",
        "print(10==9)"
      ]
    },
    {
      "cell_type": "code",
      "source": [
        "a = 10\n",
        "b = 9 \n",
        "print(a>b)\n",
        "print(a<b)\n",
        "print(a==b)"
      ],
      "metadata": {
        "colab": {
          "base_uri": "https://localhost:8080/"
        },
        "id": "m5fn_zDtJ-Bp",
        "outputId": "06375afe-c8ff-44ce-a011-832d64927b2c"
      },
      "execution_count": 6,
      "outputs": [
        {
          "output_type": "stream",
          "name": "stdout",
          "text": [
            "True\n",
            "False\n",
            "False\n"
          ]
        }
      ]
    },
    {
      "cell_type": "markdown",
      "source": [
        "#Bool Function"
      ],
      "metadata": {
        "id": "1KSFnHfJLTDX"
      }
    },
    {
      "cell_type": "code",
      "source": [
        "print(bool(5))\n",
        "print(bool(\"Maria\"))\n",
        "print(bool(0))\n",
        "print(bool(\"None\"))\n",
        "print(bool(None))\n",
        "print(bool([]))"
      ],
      "metadata": {
        "colab": {
          "base_uri": "https://localhost:8080/"
        },
        "id": "8rh49k8PLVYi",
        "outputId": "914768dc-2ca1-4903-d34a-6f405412015a"
      },
      "execution_count": 9,
      "outputs": [
        {
          "output_type": "stream",
          "name": "stdout",
          "text": [
            "True\n",
            "True\n",
            "False\n",
            "True\n",
            "False\n",
            "False\n"
          ]
        }
      ]
    },
    {
      "cell_type": "markdown",
      "source": [
        "#Function can Return in Boolean"
      ],
      "metadata": {
        "id": "zR0sTBOZLvDl"
      }
    },
    {
      "cell_type": "code",
      "source": [
        "def myFunction():\n",
        "  return False\n",
        "\n",
        "print(myFunction())\n"
      ],
      "metadata": {
        "colab": {
          "base_uri": "https://localhost:8080/"
        },
        "id": "LNOukyz8Ly_u",
        "outputId": "abeb917f-f643-432c-9a08-1d988909d93a"
      },
      "execution_count": 20,
      "outputs": [
        {
          "output_type": "stream",
          "name": "stdout",
          "text": [
            "False\n"
          ]
        }
      ]
    },
    {
      "cell_type": "code",
      "source": [
        "\n",
        "if myFunction():\n",
        "  print(\"yes\")\n",
        "else:\n",
        "  print(\"no\")\n",
        "  "
      ],
      "metadata": {
        "colab": {
          "base_uri": "https://localhost:8080/"
        },
        "id": "G4ubWxovMgHC",
        "outputId": "e1d22bd8-d03e-4ce4-c3fe-c0ca7af7660e"
      },
      "execution_count": 19,
      "outputs": [
        {
          "output_type": "stream",
          "name": "stdout",
          "text": [
            "yes\n"
          ]
        }
      ]
    },
    {
      "cell_type": "markdown",
      "source": [
        "##Application 1 "
      ],
      "metadata": {
        "id": "KKvmD1SDMuD3"
      }
    },
    {
      "cell_type": "code",
      "source": [
        "print(10>9)\n",
        "a = 6\n",
        "b = 7 \n",
        "print(a==b)\n",
        "print(a!=a)\n",
        "c = a!=a\n"
      ],
      "metadata": {
        "colab": {
          "base_uri": "https://localhost:8080/"
        },
        "id": "m2ZQHBrBMrh9",
        "outputId": "c0add191-bd4d-4df7-b734-f2908959cf9c"
      },
      "execution_count": 24,
      "outputs": [
        {
          "output_type": "stream",
          "name": "stdout",
          "text": [
            "True\n",
            "False\n",
            "False\n"
          ]
        },
        {
          "output_type": "execute_result",
          "data": {
            "text/plain": [
              "True"
            ]
          },
          "metadata": {},
          "execution_count": 24
        }
      ]
    },
    {
      "cell_type": "markdown",
      "source": [
        "#Python Operation "
      ],
      "metadata": {
        "id": "VRwDuzxHNs1V"
      }
    },
    {
      "cell_type": "code",
      "source": [
        "print(10%5)\n",
        "print(10//3)\n",
        "print(10**2)\n",
        "print(\"------------------------------------------------------------------\")\n",
        "print(10+9)\n",
        "print(10-9)\n",
        "print(10*2)\n",
        "print(round(10/2))\n",
        "print(10**2)"
      ],
      "metadata": {
        "colab": {
          "base_uri": "https://localhost:8080/"
        },
        "id": "6CTlOG5VNryw",
        "outputId": "9f9d007e-533a-4c82-9b7b-a10582a41d28"
      },
      "execution_count": 33,
      "outputs": [
        {
          "output_type": "stream",
          "name": "stdout",
          "text": [
            "0\n",
            "3\n",
            "100\n",
            "------------------------------------------------------------------\n",
            "19\n",
            "1\n",
            "20\n",
            "5\n",
            "100\n"
          ]
        }
      ]
    },
    {
      "cell_type": "markdown",
      "source": [
        "#Python Bitwise Operators"
      ],
      "metadata": {
        "id": "__2OBL_tOnZA"
      }
    },
    {
      "cell_type": "code",
      "source": [
        "a = 60\n",
        "b = 13\n",
        "print(a&b)\n",
        "print(a|b)"
      ],
      "metadata": {
        "colab": {
          "base_uri": "https://localhost:8080/"
        },
        "id": "Wb_WmtmZOaHd",
        "outputId": "43328289-ca69-4f7f-d333-f5c0ec0c65bf"
      },
      "execution_count": 37,
      "outputs": [
        {
          "output_type": "stream",
          "name": "stdout",
          "text": [
            "12\n",
            "61\n"
          ]
        }
      ]
    },
    {
      "cell_type": "markdown",
      "source": [
        "#Python Assignment Operators"
      ],
      "metadata": {
        "id": "ybLflRdtQj7P"
      }
    },
    {
      "cell_type": "code",
      "source": [
        "a+=3 # The same as a = a+3\n",
        "print(a)"
      ],
      "metadata": {
        "colab": {
          "base_uri": "https://localhost:8080/"
        },
        "id": "BRojqVtFQjSu",
        "outputId": "cd7a877d-81e6-49c4-837b-eff92428f16b"
      },
      "execution_count": 38,
      "outputs": [
        {
          "output_type": "stream",
          "name": "stdout",
          "text": [
            "63\n"
          ]
        }
      ]
    },
    {
      "cell_type": "markdown",
      "source": [
        "#Logical Operators"
      ],
      "metadata": {
        "id": "23re_MQ8RN4I"
      }
    },
    {
      "cell_type": "code",
      "source": [
        "a = True \n",
        "b = False\n",
        "\n",
        "print(a and b)\n",
        "print(not(a or b))\n"
      ],
      "metadata": {
        "colab": {
          "base_uri": "https://localhost:8080/"
        },
        "id": "0SYjLIalRNrd",
        "outputId": "6fbb5a76-2fe9-4ef7-f95b-bed75840cd65"
      },
      "execution_count": 43,
      "outputs": [
        {
          "output_type": "stream",
          "name": "stdout",
          "text": [
            "False\n",
            "False\n"
          ]
        }
      ]
    },
    {
      "cell_type": "markdown",
      "source": [
        "# Identity Operators"
      ],
      "metadata": {
        "id": "x28SCXh7RiKR"
      }
    },
    {
      "cell_type": "code",
      "source": [
        "a is b \n",
        "a is not b\n",
        "print(\"---------------------------------------------------\")\n",
        "print(a is b )\n",
        "print(a is not b)\n"
      ],
      "metadata": {
        "colab": {
          "base_uri": "https://localhost:8080/"
        },
        "id": "Ziy3MoEARh5U",
        "outputId": "5b597831-a957-4ebb-8b61-d2aa55524b3b"
      },
      "execution_count": 48,
      "outputs": [
        {
          "output_type": "stream",
          "name": "stdout",
          "text": [
            "---------------------------------------------------\n",
            "False\n",
            "True\n"
          ]
        }
      ]
    }
  ]
}